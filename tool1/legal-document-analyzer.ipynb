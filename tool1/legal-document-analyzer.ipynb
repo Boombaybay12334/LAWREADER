{
 "cells": [
  {
   "cell_type": "markdown",
   "metadata": {},
   "source": [
    "# 📑 Legal Document Analyzer\n",
    "This notebook runs the full pipeline on a legal PDF document."
   ]
  },
  {
   "cell_type": "code",
   "execution_count": null,
   "metadata": {},
   "outputs": [],
   "source": [
    "# 📦 Install required packages\n",
    "!pip install pdfplumber fpdf python-dotenv transformers torch openai google-generativeai ipywidgets"
   ]
  },
  {
   "cell_type": "code",
   "execution_count": null,
   "metadata": {},
   "outputs": [],
   "source": [
    "# 🔐 Load environment variables\n",
    "import os\n",
    "from dotenv import load_dotenv\n",
    "load_dotenv()\n",
    "\n",
    "if not (os.getenv(\"GOOGLE_API_KEY\") or os.getenv(\"OPENAI_API_KEY\")):\n",
    "    raise ValueError(\"Missing API keys. Set GOOGLE_API_KEY or OPENAI_API_KEY in .env or code block.\")"
   ]
  },
  {
   "cell_type": "code",
   "execution_count": null,
   "metadata": {},
   "outputs": [],
   "source": [
    "# 🧠 Import pipeline components\n",
    "from pipeline.config import Config\n",
    "from pipeline.parser import PDFParser\n",
    "from pipeline.type_detector import DocumentTypeDetector\n",
    "from pipeline.segmenter import DocumentSegmenter\n",
    "from pipeline.citation_extractor import CitationExtractor\n",
    "from pipeline.summarizer import DocumentSummarizer\n",
    "from pipeline.llm_client import LLMClient"
   ]
  },
  {
   "cell_type": "code",
   "execution_count": null,
   "metadata": {},
   "outputs": [],
   "source": [
    "# ⚙️ Initialize pipeline\n",
    "config = Config()\n",
    "pdf_parser = PDFParser()\n",
    "llm_client = LLMClient(config)\n",
    "type_detector = DocumentTypeDetector(config)\n",
    "segmenter = DocumentSegmenter(config, llm_client)\n",
    "citation_extractor = CitationExtractor(llm_client)\n",
    "summarizer = DocumentSummarizer(llm_client)"
   ]
  },
  {
   "cell_type": "code",
   "execution_count": null,
   "metadata": {},
   "outputs": [],
   "source": [
    "# 📤 Upload PDF (Google Colab)\n",
    "from google.colab import files\n",
    "from pathlib import Path\n",
    "\n",
    "uploaded = files.upload()\n",
    "file_name = next(iter(uploaded))\n",
    "pdf_path = Path(file_name)"
   ]
  },
  {
   "cell_type": "code",
   "execution_count": null,
   "metadata": {},
   "outputs": [],
   "source": [
    "# 🧪 Run full analysis\n",
    "text = pdf_parser.extract_text(str(pdf_path))\n",
    "doc_type_info = type_detector.detect_type(text)\n",
    "segments = segmenter.segment_document(text, doc_type_info['type'])\n",
    "\n",
    "results = []\n",
    "for segment in segments:\n",
    "    label = segment['label']\n",
    "    content = segment['content']\n",
    "    try:\n",
    "        citations = citation_extractor.extract_citations(content)\n",
    "    except:\n",
    "        citations = {}\n",
    "    try:\n",
    "        summary = summarizer.summarize_text(content, context=f\"{doc_type_info['type']} - {label}\")\n",
    "    except:\n",
    "        summary = \"Summary could not be generated.\"\n",
    "    results.append({\n",
    "        'label': label,\n",
    "        'content': content,\n",
    "        'summary': summary,\n",
    "        'citations': citations,\n",
    "        **{k: v for k, v in segment.items() if k not in ['label', 'content']}\n",
    "    })\n",
    "\n",
    "print(f\"📚 Document Type: {doc_type_info['type']} | Confidence: {doc_type_info['confidence']:.2f}\")"
   ]
  },
  {
   "cell_type": "code",
   "execution_count": null,
   "metadata": {},
   "outputs": [],
   "source": [
    "# 📊 Display results\n",
    "from IPython.display import Markdown, display\n",
    "\n",
    "for i, res in enumerate(results, 1):\n",
    "    display(Markdown(f\"### {i}. {res['label']}\"))\n",
    "    display(Markdown(f\"**Summary:** {res['summary']}\"))\n",
    "    if res['citations']:\n",
    "        display(Markdown(\"**Citations:**\"))\n",
    "        for cat, cites in res['citations'].items():\n",
    "            if cites:\n",
    "                display(Markdown(f\"- **{cat.replace('_', ' ').title()}**: {', '.join(cites)}\"))"
   ]
  }
 ],
 "metadata": {
  "kernelspec": {
   "display_name": "Python 3",
   "language": "python",
   "name": "python3"
  },
  "language_info": {
   "name": "python"
  }
 },
 "nbformat": 4,
 "nbformat_minor": 5
}
